{
 "cells": [
  {
   "cell_type": "code",
   "execution_count": 3,
   "metadata": {},
   "outputs": [],
   "source": [
    "import pandas as pd"
   ]
  },
  {
   "cell_type": "code",
   "execution_count": 20,
   "metadata": {},
   "outputs": [],
   "source": [
    "\n",
    "# Read in the original CSV file\n",
    "df_laptimes = pd.read_csv(\"C:/Users/Nhung/OneDrive/Desktop/Data courses/Udemy courses/Data bricks/f1db_csv/Original/lap_times.csv\")\n",
    "\n",
    "# Define the ranges of race IDs for each file\n",
    "ranges = [(1, 1097), (1098, 1099), (1100, 1100)]\n",
    "\n",
    "# Loop through the ranges and write the corresponding rows to separate CSV files\n",
    "for i, (start, end) in enumerate(ranges):\n",
    "    if start == end:\n",
    "        # Single race ID\n",
    "        group = df_laptimes[df_laptimes['raceId'] == start]\n",
    "    else:\n",
    "        # Range of race IDs\n",
    "        group = df_laptimes[df_laptimes['raceId'].between(start, end)]\n",
    "\n",
    "    # Write the group to a separate CSV file\n",
    "    group.to_csv(f'laptimes_{i + 1}.csv', index=False)\n"
   ]
  },
  {
   "cell_type": "code",
   "execution_count": 21,
   "metadata": {},
   "outputs": [],
   "source": [
    "\n",
    "# Read in the original CSV file\n",
    "df_qualifying = pd.read_csv(\"C:/Users/Nhung/OneDrive/Desktop/Data courses/Udemy courses/Data bricks/f1db_csv/Original/qualifying.csv\")\n",
    "\n",
    "# Define the ranges of race IDs for each file\n",
    "ranges = [(1, 1097), (1098, 1099), (1100, 1100)]\n",
    "\n",
    "# Loop through the ranges and write the corresponding rows to separate CSV files\n",
    "for i, (start, end) in enumerate(ranges):\n",
    "    if start == end:\n",
    "        # Single race ID\n",
    "        group = df_qualifying[df_qualifying['raceId'] == start]\n",
    "    else:\n",
    "        # Range of race IDs\n",
    "        group = df_qualifying[df_qualifying['raceId'].between(start, end)]\n",
    "\n",
    "    # Write the group to a separate CSV file\n",
    "    group.to_json(f'qualifying_{i + 1}.json', orient='records', lines=True)\n"
   ]
  },
  {
   "cell_type": "code",
   "execution_count": 15,
   "metadata": {},
   "outputs": [],
   "source": [
    "import pandas as pd\n",
    "import json\n",
    "\n",
    "# Read in the original CSV file\n",
    "df_qualifying = pd.read_csv(\"C:/Users/Nhung/OneDrive/Desktop/Data courses/Udemy courses/Data bricks/f1db_csv/Original/qualifying.csv\")\n",
    "\n",
    "# Define the ranges of race IDs for each file\n",
    "ranges = [(1, 1097), (1098, 1099), (1100, 1100)]\n",
    "\n",
    "# Loop through the ranges and write each row as a separate multiple-line JSON file\n",
    "for i, (start, end) in enumerate(ranges):\n",
    "    if start == end:\n",
    "        # Single race ID\n",
    "        group = df_qualifying[df_qualifying['raceId'] == start]\n",
    "    else:\n",
    "        # Range of race IDs\n",
    "        group = df_qualifying[df_qualifying['raceId'].between(start, end)]\n",
    "\n",
    "    # Convert each row to a dictionary with multiple lines\n",
    "    group_json = [json.loads(group.iloc[j].to_json(orient=\"split\", index=False)) for j in range(group.shape[0])]\n",
    "    \n",
    "    # Write the dictionary to a JSON file with multiple lines\n",
    "    with open(f'qualifying_{i + 1}.json', 'w') as f:\n",
    "        json.dump(group_json, f, indent=4)\n"
   ]
  },
  {
   "cell_type": "code",
   "execution_count": 5,
   "metadata": {},
   "outputs": [
    {
     "name": "stdout",
     "output_type": "stream",
     "text": [
      "c:\\Users\\Nhung\\OneDrive\\Desktop\\Data courses\\Udemy courses\\Data bricks\\f1db_csv\n"
     ]
    }
   ],
   "source": [
    "import os\n",
    "\n",
    "print(os.getcwd())"
   ]
  },
  {
   "cell_type": "code",
   "execution_count": 22,
   "metadata": {},
   "outputs": [],
   "source": [
    "# Read in the original CSV file\n",
    "df_pitstops = pd.read_csv(\"C:/Users/Nhung/OneDrive/Desktop/Data courses/Udemy courses/Data bricks/f1db_csv/Original/pit_stops.csv\")\n",
    "\n",
    "# Define the ranges of race IDs for each file\n",
    "ranges = [(1, 1097), (1098, 1099), (1100, 1100)]\n",
    "\n",
    "# Loop through the ranges and write the corresponding rows to separate CSV files\n",
    "for i, (start, end) in enumerate(ranges):\n",
    "    if start == end:\n",
    "        # Single race ID\n",
    "        group = df_pitstops[df_pitstops['raceId'] == start]\n",
    "    else:\n",
    "        # Range of race IDs\n",
    "        group = df_pitstops[df_pitstops['raceId'].between(start, end)]\n",
    "\n",
    "    # Write the group to a separate CSV file\n",
    "    group.to_csv(f'pit_stops_{i + 1}.csv', index=False)\n"
   ]
  },
  {
   "cell_type": "code",
   "execution_count": 23,
   "metadata": {},
   "outputs": [],
   "source": [
    "# Read in the original CSV file\n",
    "df_results= pd.read_csv(\"C:/Users/Nhung/OneDrive/Desktop/Data courses/Udemy courses/Data bricks/f1db_csv/Original/results.csv\")\n",
    "\n",
    "# Define the ranges of race IDs for each file\n",
    "ranges = [(1, 1097), (1098, 1099), (1100, 1100)]\n",
    "\n",
    "# Loop through the ranges and write the corresponding rows to separate CSV files\n",
    "for i, (start, end) in enumerate(ranges):\n",
    "    if start == end:\n",
    "        # Single race ID\n",
    "        group = df_results[df_results['raceId'] == start]\n",
    "    else:\n",
    "        # Range of race IDs\n",
    "        group = df_results[df_results['raceId'].between(start, end)]\n",
    "\n",
    "    # Write the group to a separate CSV file\n",
    "    group.to_csv(f'results_{i + 1}.csv', index=False)"
   ]
  }
 ],
 "metadata": {
  "kernelspec": {
   "display_name": "Python 3",
   "language": "python",
   "name": "python3"
  },
  "language_info": {
   "codemirror_mode": {
    "name": "ipython",
    "version": 3
   },
   "file_extension": ".py",
   "mimetype": "text/x-python",
   "name": "python",
   "nbconvert_exporter": "python",
   "pygments_lexer": "ipython3",
   "version": "3.11.3"
  },
  "orig_nbformat": 4
 },
 "nbformat": 4,
 "nbformat_minor": 2
}
